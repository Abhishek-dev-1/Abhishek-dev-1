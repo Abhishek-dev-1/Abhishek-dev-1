{
  "nbformat": 4,
  "nbformat_minor": 0,
  "metadata": {
    "colab": {
      "provenance": [],
      "authorship_tag": "ABX9TyN7Tg5vUuasvz7TzNqi50za",
      "include_colab_link": true
    },
    "kernelspec": {
      "name": "python3",
      "display_name": "Python 3"
    },
    "language_info": {
      "name": "python"
    }
  },
  "cells": [
    {
      "cell_type": "markdown",
      "metadata": {
        "id": "view-in-github",
        "colab_type": "text"
      },
      "source": [
        "<a href=\"https://colab.research.google.com/github/Abhishek-dev-1/Abhishek-dev-1/blob/main/PythonRevision.ipynb\" target=\"_parent\"><img src=\"https://colab.research.google.com/assets/colab-badge.svg\" alt=\"Open In Colab\"/></a>"
      ]
    },
    {
      "cell_type": "code",
      "execution_count": 2,
      "metadata": {
        "colab": {
          "base_uri": "https://localhost:8080/"
        },
        "id": "ehq2WDoVgXb7",
        "outputId": "158d9690-c610-409f-8834-090fbb61a190"
      },
      "outputs": [
        {
          "output_type": "stream",
          "name": "stdout",
          "text": [
            "Hello World\n"
          ]
        }
      ],
      "source": [
        "print(\"Hello World\")"
      ]
    },
    {
      "cell_type": "code",
      "source": [
        "print(\"welcome to python programming\")"
      ],
      "metadata": {
        "colab": {
          "base_uri": "https://localhost:8080/"
        },
        "id": "EDfEzD4Qgh2J",
        "outputId": "25f6a24e-5288-476b-9644-43d0b0ca7bd7"
      },
      "execution_count": 3,
      "outputs": [
        {
          "output_type": "stream",
          "name": "stdout",
          "text": [
            "welcome to python programming\n"
          ]
        }
      ]
    },
    {
      "cell_type": "code",
      "source": [
        "#comment line\n",
        "#Arithematic Operators + - * / // **\n",
        "a=10\n",
        "b=2\n",
        "#c=a+b\n",
        "#c=a-b\n",
        "#c=a/b\n",
        "#c=a//b\n",
        "c=a**b\n",
        "print(c)"
      ],
      "metadata": {
        "colab": {
          "base_uri": "https://localhost:8080/"
        },
        "id": "YAwngUzYg3rh",
        "outputId": "36db7150-49ae-495b-f4e0-47bf42d4a995"
      },
      "execution_count": 8,
      "outputs": [
        {
          "output_type": "stream",
          "name": "stdout",
          "text": [
            "100\n"
          ]
        }
      ]
    },
    {
      "cell_type": "code",
      "source": [
        "#computing averaage of two number\n",
        "a=int(input(\"enter the first number\"))\n",
        "b=int(input(\"enter the second number\"))\n",
        "c=(a+b)/2\n",
        "print(\"Average of two given numbers is :\", c)"
      ],
      "metadata": {
        "colab": {
          "base_uri": "https://localhost:8080/"
        },
        "id": "DT1FcKQohrNN",
        "outputId": "29564e19-af2d-49df-cfd3-ebddedc1bd8a"
      },
      "execution_count": 9,
      "outputs": [
        {
          "output_type": "stream",
          "name": "stdout",
          "text": [
            "enter the first number10\n",
            "enter the second number20\n",
            "Average of two given numbers is : 15.0\n"
          ]
        }
      ]
    },
    {
      "cell_type": "code",
      "source": [
        "#computing area of circle\n",
        "r=float(input(\"enter the radius of circle\"))\n",
        "area=3.14*r*r\n",
        "circumference=2*3.14*r\n",
        "print(\"Area of circle is :\", area)\n",
        "print(\"Circumference of circle is :\", circumference)"
      ],
      "metadata": {
        "colab": {
          "base_uri": "https://localhost:8080/"
        },
        "id": "VSNJWWM_iWEd",
        "outputId": "eefcfd26-47d3-4158-e125-94c9bc14a086"
      },
      "execution_count": 11,
      "outputs": [
        {
          "output_type": "stream",
          "name": "stdout",
          "text": [
            "enter the radius of circle73\n",
            "Area of circle is : 16733.06\n",
            "Circumference of circle is : 458.44\n"
          ]
        }
      ]
    },
    {
      "cell_type": "code",
      "source": [
        "#relational  operators in python\n",
        "# < <= > >= == !=\n",
        "a=10\n",
        "b=20\n",
        "print(a<b)\n",
        "print(a<=b)\n",
        "print(a>b)\n",
        "print(a>=b)\n",
        "print(a==b)\n",
        "print(a!=b)"
      ],
      "metadata": {
        "colab": {
          "base_uri": "https://localhost:8080/"
        },
        "id": "EAY3xUV_i6vT",
        "outputId": "6fc69c73-bb09-42b4-b6ea-a7f14a3b90c4"
      },
      "execution_count": 12,
      "outputs": [
        {
          "output_type": "stream",
          "name": "stdout",
          "text": [
            "True\n",
            "True\n",
            "False\n",
            "False\n",
            "False\n",
            "True\n"
          ]
        }
      ]
    },
    {
      "cell_type": "code",
      "source": [
        "#logical operator in python\n",
        "#and or not\n",
        "a=10\n",
        "b=20\n",
        "c=30\n",
        "print(a>b and a>c)\n",
        "print(a>b or a>c)\n",
        "print(not(a>b))"
      ],
      "metadata": {
        "colab": {
          "base_uri": "https://localhost:8080/"
        },
        "id": "zjKAWlEmkGUw",
        "outputId": "f50b30d9-1727-49b7-f0ee-e8e5515acc24"
      },
      "execution_count": 13,
      "outputs": [
        {
          "output_type": "stream",
          "name": "stdout",
          "text": [
            "False\n",
            "False\n",
            "True\n"
          ]
        }
      ]
    },
    {
      "cell_type": "code",
      "source": [
        "#bitwise operators in python\n",
        "a=10\n",
        "b=4\n",
        "print(a&b) #and\n",
        "print(a|b)#or\n",
        "print(a^b)#xor\n",
        "print(~a)#nor\n",
        "print(a>>2)#right shift\n",
        "print(a<<2)#left shift"
      ],
      "metadata": {
        "colab": {
          "base_uri": "https://localhost:8080/"
        },
        "id": "PjJp1BmKkgry",
        "outputId": "f7aef7ae-6aa1-423f-c97e-36afd8f52107"
      },
      "execution_count": 14,
      "outputs": [
        {
          "output_type": "stream",
          "name": "stdout",
          "text": [
            "0\n",
            "14\n",
            "14\n",
            "-11\n",
            "2\n",
            "40\n"
          ]
        }
      ]
    },
    {
      "cell_type": "code",
      "source": [
        "#calculate area of triangle ussing Heron's formula\n",
        "a=float(input(\"enter the first side\"))\n",
        "b=float(input(\"enter the second side\"))\n",
        "c=float(input(\"enter the third side\"))\n",
        "s=(a+b+c)/2\n",
        "area=(s*(s-a)*(s-b)*(s-c))**0.5\n",
        "print(\"Area of triangle is :\", area)"
      ],
      "metadata": {
        "colab": {
          "base_uri": "https://localhost:8080/"
        },
        "id": "CWo8ga-ek_eb",
        "outputId": "1158fe68-eee8-47d3-9c3b-0157868fffb1"
      },
      "execution_count": 15,
      "outputs": [
        {
          "output_type": "stream",
          "name": "stdout",
          "text": [
            "enter the first side15\n",
            "enter the second side17\n",
            "enter the third side13\n",
            "Area of triangle is : 93.89988019161686\n"
          ]
        }
      ]
    },
    {
      "cell_type": "code",
      "source": [
        "#Python program to convert the temperature in degree centigrade to Fahrenheit\n",
        "c=float(input(\"enter the temperature in degree centigrade\"))\n",
        "f=(c*9/5)+32\n",
        "print(\"Temperature in Fahrenheit is :\", f)"
      ],
      "metadata": {
        "colab": {
          "base_uri": "https://localhost:8080/"
        },
        "id": "nwyMIS-_mRs0",
        "outputId": "177f4f66-63a8-424c-f8ee-732d6b4fe408"
      },
      "execution_count": 16,
      "outputs": [
        {
          "output_type": "stream",
          "name": "stdout",
          "text": [
            "enter the temperature in degree centigrade15\n",
            "Temperature in Fahrenheit is : 59.0\n"
          ]
        }
      ]
    },
    {
      "cell_type": "code",
      "source": [
        "\n"
      ],
      "metadata": {
        "id": "bL6qu-F8nB0s"
      },
      "execution_count": null,
      "outputs": []
    }
  ]
}